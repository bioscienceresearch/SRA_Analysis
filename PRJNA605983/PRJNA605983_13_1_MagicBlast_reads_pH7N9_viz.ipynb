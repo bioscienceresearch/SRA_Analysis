{
 "cells": [
  {
   "cell_type": "code",
   "execution_count": 1,
   "id": "controversial-conviction",
   "metadata": {},
   "outputs": [],
   "source": [
    "import os\n",
    "import time\n",
    "import pandas as pd\n",
    "import numpy as np\n",
    "import pathlib\n",
    "from io import StringIO\n",
    "from Bio import SeqIO\n",
    "from Bio.Cluster import distancematrix\n",
    "from Bio.Blast.Applications import NcbiblastnCommandline\n",
    "from Bio.Blast import NCBIWWW\n",
    "from Bio.Blast import NCBIXML\n",
    "import subprocess\n",
    "from matplotlib import pyplot as plt"
   ]
  },
  {
   "cell_type": "code",
   "execution_count": 2,
   "id": "correct-parameter",
   "metadata": {},
   "outputs": [
    {
     "data": {
      "text/html": [
       "<style>.container { width:95% !important; }</style>"
      ],
      "text/plain": [
       "<IPython.core.display.HTML object>"
      ]
     },
     "metadata": {},
     "output_type": "display_data"
    }
   ],
   "source": [
    "from IPython.core.display import display, HTML\n",
    "display(HTML(\"<style>.container { width:95% !important; }</style>\"))"
   ]
  },
  {
   "cell_type": "markdown",
   "id": "respective-psychiatry",
   "metadata": {},
   "source": [
    "MagicBlast:\n",
    "\n",
    "- raw reads to nt\n",
    "- contigs to nt\n",
    "- raw reads to gsa_virus\n",
    "- contigs to gsa_virus"
   ]
  },
  {
   "cell_type": "code",
   "execution_count": 3,
   "id": "hydraulic-blood",
   "metadata": {},
   "outputs": [],
   "source": [
    "PRJ='PRJNA605983'\n",
    "DATA_PATH=f'/mnt/1TB_0/Data/Assembly/{PRJ}/'\n",
    "DB='influenza_ph7n9'"
   ]
  },
  {
   "cell_type": "code",
   "execution_count": 4,
   "id": "horizontal-keeping",
   "metadata": {},
   "outputs": [],
   "source": [
    "def clean_string(s):\n",
    "    s = s.replace(',', '').strip()\n",
    "    return s"
   ]
  },
  {
   "cell_type": "code",
   "execution_count": 5,
   "id": "naughty-dance",
   "metadata": {},
   "outputs": [],
   "source": [
    "def get_contigs_ascessions(contigs_file):\n",
    "    contigs=[]\n",
    "    accessions=[]\n",
    "    with open(contigs_file, 'r') as temp_f:\n",
    "        for line in temp_f:\n",
    "            if len(line.strip())>0:\n",
    "                vals=line.split(\"\\t\")\n",
    "                contigs.append(clean_string(vals[0]))\n",
    "                accessions.append(clean_string(vals[2]))\n",
    "    return  contigs, accessions\n"
   ]
  },
  {
   "cell_type": "code",
   "execution_count": 29,
   "id": "minus-sunglasses",
   "metadata": {},
   "outputs": [],
   "source": [
    "def get_raw_sam_ascessions(reads_file, machine_id='v300043428'):\n",
    "    accessions=[]\n",
    "    with open(reads_file, 'r') as temp_f:\n",
    "        for line in temp_f:\n",
    "            if len(line.strip())>0:\n",
    "                if line.startswith(machine_id) or line.startswith(f'@{machine_id}'):\n",
    "                    vals=line.split(\"\\t\")\n",
    "                    accessions.append(clean_string(vals[2]))\n",
    "    return accessions"
   ]
  },
  {
   "cell_type": "code",
   "execution_count": 30,
   "id": "statistical-simple",
   "metadata": {},
   "outputs": [],
   "source": [
    "def get_val_count(accessions):\n",
    "    values, counts = np.unique(accessions, return_counts=True)\n",
    "    idx = np.argsort(counts)[::-1]\n",
    "    values = np.array(values)[idx]\n",
    "    counts = np.array(counts)[idx]\n",
    "    return values, counts, idx"
   ]
  },
  {
   "cell_type": "code",
   "execution_count": 31,
   "id": "saving-saver",
   "metadata": {},
   "outputs": [],
   "source": [
    "def get_titles(df, values):\n",
    "    titles=[]\n",
    "    for v in values:\n",
    "        l=df.loc[df.accession==v, 'title'].tolist()\n",
    "        titles.append(l[0])\n",
    "    return titles"
   ]
  },
  {
   "cell_type": "code",
   "execution_count": 32,
   "id": "integrated-resistance",
   "metadata": {},
   "outputs": [],
   "source": [
    "def get_accession_dat(values, dbname='nt'):\n",
    "    vdats=[]\n",
    "    for v in values:\n",
    "        try:\n",
    "            vdat=!blastdbcmd -db $dbname -entry $v\n",
    "        except Exception as e:\n",
    "            if dbname!='nt':\n",
    "                vdat=!blastdbcmd -db 'nt' -entry $v\n",
    "        if vdat is not None:\n",
    "            vdats.append(vdat[0].split(',')[0])\n",
    "    return vdats"
   ]
  },
  {
   "cell_type": "code",
   "execution_count": 33,
   "id": "opened-copper",
   "metadata": {},
   "outputs": [],
   "source": [
    "def get_accession_title(values, df):\n",
    "    accessions=df.accession.tolist()\n",
    "    descriptions=df.description.tolist()\n",
    "    titles=[]\n",
    "    for v in values:\n",
    "        i=accessions.index(v)\n",
    "        titles.append(descriptions[i])\n",
    "    assert len(values)==len(titles)\n",
    "    return titles\n",
    "        "
   ]
  },
  {
   "cell_type": "markdown",
   "id": "color-junior",
   "metadata": {},
   "source": [
    "## Raw Reads"
   ]
  },
  {
   "cell_type": "code",
   "execution_count": 34,
   "id": "fatal-celebrity",
   "metadata": {},
   "outputs": [],
   "source": [
    "df_titles=pd.read_csv('/mnt/1TB_0/Data/fasta/combined/influenza_pH7N9_titles.csv', names=['accession','description'])"
   ]
  },
  {
   "cell_type": "code",
   "execution_count": 35,
   "id": "dated-taste",
   "metadata": {},
   "outputs": [
    {
     "data": {
      "text/html": [
       "<div>\n",
       "<style scoped>\n",
       "    .dataframe tbody tr th:only-of-type {\n",
       "        vertical-align: middle;\n",
       "    }\n",
       "\n",
       "    .dataframe tbody tr th {\n",
       "        vertical-align: top;\n",
       "    }\n",
       "\n",
       "    .dataframe thead th {\n",
       "        text-align: right;\n",
       "    }\n",
       "</style>\n",
       "<table border=\"1\" class=\"dataframe\">\n",
       "  <thead>\n",
       "    <tr style=\"text-align: right;\">\n",
       "      <th></th>\n",
       "      <th>accession</th>\n",
       "      <th>description</th>\n",
       "    </tr>\n",
       "  </thead>\n",
       "  <tbody>\n",
       "    <tr>\n",
       "      <th>0</th>\n",
       "      <td>NC_026425.1</td>\n",
       "      <td>Influenza A virus (A/Shanghai/02/2013(H7N9)) ...</td>\n",
       "    </tr>\n",
       "    <tr>\n",
       "      <th>1</th>\n",
       "      <td>NC_026422.1</td>\n",
       "      <td>Influenza A virus (A/Shanghai/02/2013(H7N9)) ...</td>\n",
       "    </tr>\n",
       "    <tr>\n",
       "      <th>2</th>\n",
       "      <td>NC_026427.1</td>\n",
       "      <td>Influenza A virus (A/Shanghai/02/2013(H7N9)) ...</td>\n",
       "    </tr>\n",
       "    <tr>\n",
       "      <th>3</th>\n",
       "      <td>NC_026423.1</td>\n",
       "      <td>Influenza A virus (A/Shanghai/02/2013(H7N9)) ...</td>\n",
       "    </tr>\n",
       "    <tr>\n",
       "      <th>4</th>\n",
       "      <td>NC_026428.1</td>\n",
       "      <td>Influenza A virus (A/Shanghai/02/2013(H7N9)) ...</td>\n",
       "    </tr>\n",
       "    <tr>\n",
       "      <th>5</th>\n",
       "      <td>NC_026426.1</td>\n",
       "      <td>Influenza A virus (A/Shanghai/02/2013(H7N9)) ...</td>\n",
       "    </tr>\n",
       "    <tr>\n",
       "      <th>6</th>\n",
       "      <td>NC_004910.1</td>\n",
       "      <td>Influenza A virus pb2 gene for polymerase Pb2...</td>\n",
       "    </tr>\n",
       "    <tr>\n",
       "      <th>7</th>\n",
       "      <td>NC_004909.1</td>\n",
       "      <td>Influenza A virus na gene for neuraminidase  ...</td>\n",
       "    </tr>\n",
       "    <tr>\n",
       "      <th>8</th>\n",
       "      <td>NC_002728.1</td>\n",
       "      <td>Nipah virus complete genome</td>\n",
       "    </tr>\n",
       "    <tr>\n",
       "      <th>9</th>\n",
       "      <td>NC_012532.1</td>\n",
       "      <td>Zika virus complete genome</td>\n",
       "    </tr>\n",
       "    <tr>\n",
       "      <th>10</th>\n",
       "      <td>NC_006273.2</td>\n",
       "      <td>Human herpesvirus 5 strain Merlin complete ge...</td>\n",
       "    </tr>\n",
       "    <tr>\n",
       "      <th>11</th>\n",
       "      <td>NC_001407.1</td>\n",
       "      <td>Rous sarcoma virus complete genome</td>\n",
       "    </tr>\n",
       "    <tr>\n",
       "      <th>12</th>\n",
       "      <td>M19183.1</td>\n",
       "      <td>Woodchuck hepatitis virus (WHV) complete geno...</td>\n",
       "    </tr>\n",
       "    <tr>\n",
       "      <th>13</th>\n",
       "      <td>MN639770.1</td>\n",
       "      <td>Japanese encephalitis virus isolate JEV1805M ...</td>\n",
       "    </tr>\n",
       "    <tr>\n",
       "      <th>14</th>\n",
       "      <td>NC_001501.1</td>\n",
       "      <td>Moloney murine leukemia virus complete genome</td>\n",
       "    </tr>\n",
       "    <tr>\n",
       "      <th>15</th>\n",
       "      <td>NC_001653.2</td>\n",
       "      <td>Hepatitis delta virus complete genome</td>\n",
       "    </tr>\n",
       "    <tr>\n",
       "      <th>16</th>\n",
       "      <td>NC_001669.1</td>\n",
       "      <td>Simian virus 40 complete genome</td>\n",
       "    </tr>\n",
       "    <tr>\n",
       "      <th>17</th>\n",
       "      <td>NC_019843.3</td>\n",
       "      <td>Middle East respiratory syndrome-related coro...</td>\n",
       "    </tr>\n",
       "  </tbody>\n",
       "</table>\n",
       "</div>"
      ],
      "text/plain": [
       "      accession                                        description\n",
       "0   NC_026425.1   Influenza A virus (A/Shanghai/02/2013(H7N9)) ...\n",
       "1   NC_026422.1   Influenza A virus (A/Shanghai/02/2013(H7N9)) ...\n",
       "2   NC_026427.1   Influenza A virus (A/Shanghai/02/2013(H7N9)) ...\n",
       "3   NC_026423.1   Influenza A virus (A/Shanghai/02/2013(H7N9)) ...\n",
       "4   NC_026428.1   Influenza A virus (A/Shanghai/02/2013(H7N9)) ...\n",
       "5   NC_026426.1   Influenza A virus (A/Shanghai/02/2013(H7N9)) ...\n",
       "6   NC_004910.1   Influenza A virus pb2 gene for polymerase Pb2...\n",
       "7   NC_004909.1   Influenza A virus na gene for neuraminidase  ...\n",
       "8   NC_002728.1                        Nipah virus complete genome\n",
       "9   NC_012532.1                         Zika virus complete genome\n",
       "10  NC_006273.2   Human herpesvirus 5 strain Merlin complete ge...\n",
       "11  NC_001407.1                 Rous sarcoma virus complete genome\n",
       "12     M19183.1   Woodchuck hepatitis virus (WHV) complete geno...\n",
       "13   MN639770.1   Japanese encephalitis virus isolate JEV1805M ...\n",
       "14  NC_001501.1      Moloney murine leukemia virus complete genome\n",
       "15  NC_001653.2              Hepatitis delta virus complete genome\n",
       "16  NC_001669.1                    Simian virus 40 complete genome\n",
       "17  NC_019843.3   Middle East respiratory syndrome-related coro..."
      ]
     },
     "execution_count": 35,
     "metadata": {},
     "output_type": "execute_result"
    }
   ],
   "source": [
    "df_titles"
   ]
  },
  {
   "cell_type": "code",
   "execution_count": 36,
   "id": "thirty-sewing",
   "metadata": {},
   "outputs": [],
   "source": [
    "#sra_list= ['SRR11092059','SRR11092060']"
   ]
  },
  {
   "cell_type": "code",
   "execution_count": 37,
   "id": "standing-spelling",
   "metadata": {},
   "outputs": [],
   "source": [
    "sra_list= ['SRR11092059','SRR11092060','SRR11092061','SRR11092062','SRR11092063','SRR11092064','SRR11092056','SRR11092057','SRR11092058']"
   ]
  },
  {
   "cell_type": "code",
   "execution_count": 38,
   "id": "given-collaboration",
   "metadata": {},
   "outputs": [
    {
     "name": "stdout",
     "output_type": "stream",
     "text": [
      "\n",
      "SRR11092059\n",
      " Influenza A virus (A/Shanghai/02/2013(H7N9)) segment 4 hemagglutinin (HA) gene complete cds, NC_026425.1, 16359\n",
      " Human herpesvirus 5 strain Merlin complete genome, NC_006273.2, 2582\n",
      " Nipah virus complete genome, NC_002728.1, 118\n",
      " Influenza A virus (A/Shanghai/02/2013(H7N9)) segment 1 polymerase PB2 (PB2) gene complete cds, NC_026422.1, 96\n",
      " Moloney murine leukemia virus complete genome, NC_001501.1, 70\n",
      " Simian virus 40 complete genome, NC_001669.1, 62\n",
      " Influenza A virus (A/Shanghai/02/2013(H7N9)) segment 7 matrix protein 2 (M2) and matrix protein 1 (M1) genes complete cds, NC_026427.1, 25\n",
      " Japanese encephalitis virus isolate JEV1805M complete genome, MN639770.1, 14\n",
      " Influenza A virus (A/Shanghai/02/2013(H7N9)) segment 2 polymerase PB1 (PB1) and PB1-F2 protein (PB1-F2) genes complete cds, NC_026423.1, 10\n",
      " Woodchuck hepatitis virus (WHV) complete genome  clone WHV 59, M19183.1, 6\n",
      " Influenza A virus (A/Shanghai/02/2013(H7N9)) segment 8 nuclear export protein (NEP) and nonstructural protein 1 (NS1) genes complete cds, NC_026428.1, 4\n",
      " Influenza A virus (A/Shanghai/02/2013(H7N9)) segment 5 nucleocapsid protein (NP) gene complete cds, NC_026426.1, 4\n",
      " Influenza A virus pb2 gene for polymerase Pb2  genomic RNA  strain A/Hong Kong/1073/99(H9N2), NC_004910.1, 2\n",
      " Rous sarcoma virus complete genome, NC_001407.1, 2\n",
      "\n",
      "SRR11092060\n",
      " Influenza A virus (A/Shanghai/02/2013(H7N9)) segment 4 hemagglutinin (HA) gene complete cds, NC_026425.1, 55\n",
      " Nipah virus complete genome, NC_002728.1, 14\n",
      " Human herpesvirus 5 strain Merlin complete genome, NC_006273.2, 7\n",
      " Influenza A virus (A/Shanghai/02/2013(H7N9)) segment 1 polymerase PB2 (PB2) gene complete cds, NC_026422.1, 4\n",
      " Influenza A virus (A/Shanghai/02/2013(H7N9)) segment 2 polymerase PB1 (PB1) and PB1-F2 protein (PB1-F2) genes complete cds, NC_026423.1, 2\n",
      " Simian virus 40 complete genome, NC_001669.1, 1\n",
      "\n",
      "SRR11092061\n",
      " Influenza A virus (A/Shanghai/02/2013(H7N9)) segment 4 hemagglutinin (HA) gene complete cds, NC_026425.1, 98\n",
      " Nipah virus complete genome, NC_002728.1, 34\n",
      " Human herpesvirus 5 strain Merlin complete genome, NC_006273.2, 20\n",
      " Influenza A virus (A/Shanghai/02/2013(H7N9)) segment 1 polymerase PB2 (PB2) gene complete cds, NC_026422.1, 8\n",
      " Moloney murine leukemia virus complete genome, NC_001501.1, 7\n",
      " Influenza A virus (A/Shanghai/02/2013(H7N9)) segment 2 polymerase PB1 (PB1) and PB1-F2 protein (PB1-F2) genes complete cds, NC_026423.1, 4\n",
      " Influenza A virus (A/Shanghai/02/2013(H7N9)) segment 5 nucleocapsid protein (NP) gene complete cds, NC_026426.1, 2\n",
      " Simian virus 40 complete genome, NC_001669.1, 2\n",
      " Woodchuck hepatitis virus (WHV) complete genome  clone WHV 59, M19183.1, 2\n",
      " Rous sarcoma virus complete genome, NC_001407.1, 1\n",
      "\n",
      "SRR11092062\n",
      " Influenza A virus (A/Shanghai/02/2013(H7N9)) segment 4 hemagglutinin (HA) gene complete cds, NC_026425.1, 296\n",
      " Human herpesvirus 5 strain Merlin complete genome, NC_006273.2, 49\n",
      " Simian virus 40 complete genome, NC_001669.1, 7\n",
      " Influenza A virus (A/Shanghai/02/2013(H7N9)) segment 1 polymerase PB2 (PB2) gene complete cds, NC_026422.1, 2\n",
      " Nipah virus complete genome, NC_002728.1, 2\n",
      " Moloney murine leukemia virus complete genome, NC_001501.1, 2\n",
      " Influenza A virus (A/Shanghai/02/2013(H7N9)) segment 2 polymerase PB1 (PB1) and PB1-F2 protein (PB1-F2) genes complete cds, NC_026423.1, 1\n",
      "\n",
      "SRR11092063\n",
      " Influenza A virus (A/Shanghai/02/2013(H7N9)) segment 4 hemagglutinin (HA) gene complete cds, NC_026425.1, 98\n",
      " Human herpesvirus 5 strain Merlin complete genome, NC_006273.2, 17\n",
      " Moloney murine leukemia virus complete genome, NC_001501.1, 2\n",
      " Influenza A virus (A/Shanghai/02/2013(H7N9)) segment 1 polymerase PB2 (PB2) gene complete cds, NC_026422.1, 1\n",
      "\n",
      "SRR11092064\n",
      " Simian virus 40 complete genome, NC_001669.1, 8\n",
      " Human herpesvirus 5 strain Merlin complete genome, NC_006273.2, 2\n",
      "\n",
      "SRR11092056\n",
      " Rous sarcoma virus complete genome, NC_001407.1, 1\n",
      "\n",
      "SRR11092057\n",
      " Simian virus 40 complete genome, NC_001669.1, 4\n",
      " Rous sarcoma virus complete genome, NC_001407.1, 1\n",
      "\n",
      "SRR11092058\n"
     ]
    }
   ],
   "source": [
    "for sra in sra_list:\n",
    "    out_path=f'{DATA_PATH}{sra}/magic_blast/'\n",
    "    sam_out=f'{out_path}{sra}_magicBLAST_{DB}.sam'\n",
    "    machine_id='v300043428'\n",
    "    if sra in ['SRR11092056','SRR11092057','SRR11092058', 'SRR11092064']:\n",
    "        machine_id='M04943'\n",
    "    accessions=get_raw_sam_ascessions(sam_out, machine_id)\n",
    "    values, counts, idx = get_val_count(accessions)\n",
    "    titles=get_accession_title(values, df_titles)\n",
    "    print(f'\\n{sra}')\n",
    "    for t, v, c in zip(titles, values, counts):\n",
    "        print(f'{t}, {v}, {c}')"
   ]
  },
  {
   "cell_type": "markdown",
   "id": "contrary-dictionary",
   "metadata": {},
   "source": [
    "### Lane02"
   ]
  },
  {
   "cell_type": "code",
   "execution_count": 41,
   "id": "governmental-athens",
   "metadata": {},
   "outputs": [],
   "source": [
    "sra_list= ['SRR11092062','SRR11092063']"
   ]
  },
  {
   "cell_type": "code",
   "execution_count": 42,
   "id": "harmful-arrow",
   "metadata": {},
   "outputs": [
    {
     "name": "stdout",
     "output_type": "stream",
     "text": [
      "\n",
      "SRR11092062\n",
      " Moloney murine leukemia virus complete genome, NC_001501.1, 6\n",
      " Rous sarcoma virus complete genome, NC_001407.1, 2\n",
      "\n",
      "SRR11092063\n"
     ]
    }
   ],
   "source": [
    "for sra in sra_list:\n",
    "    out_path=f'{DATA_PATH}{sra}/magic_blast/'\n",
    "    sam_out=f'{out_path}{sra}_L02_magicBLAST_{DB}.sam'\n",
    "    machine_id='v300043428'\n",
    "    if sra in ['SRR11092056','SRR11092057','SRR11092058', 'SRR11092064']:\n",
    "        machine_id='M04943'\n",
    "    accessions=get_raw_sam_ascessions(sam_out, machine_id)\n",
    "    values, counts, idx = get_val_count(accessions)\n",
    "    titles=get_accession_title(values, df_titles)\n",
    "    print(f'\\n{sra}')\n",
    "    for t, v, c in zip(titles, values, counts):\n",
    "        print(f'{t}, {v}, {c}')"
   ]
  },
  {
   "cell_type": "code",
   "execution_count": null,
   "id": "commercial-sport",
   "metadata": {},
   "outputs": [],
   "source": []
  }
 ],
 "metadata": {
  "kernelspec": {
   "display_name": "Python 3",
   "language": "python",
   "name": "python3"
  },
  "language_info": {
   "codemirror_mode": {
    "name": "ipython",
    "version": 3
   },
   "file_extension": ".py",
   "mimetype": "text/x-python",
   "name": "python",
   "nbconvert_exporter": "python",
   "pygments_lexer": "ipython3",
   "version": "3.6.12"
  }
 },
 "nbformat": 4,
 "nbformat_minor": 5
}
