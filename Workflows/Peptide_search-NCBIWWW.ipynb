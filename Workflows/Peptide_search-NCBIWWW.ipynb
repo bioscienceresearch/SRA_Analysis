{
 "cells": [
  {
   "cell_type": "code",
   "execution_count": 1,
   "id": "lesbian-moral",
   "metadata": {},
   "outputs": [],
   "source": [
    "import pathlib\n",
    "import collections\n",
    "import re\n",
    "import os.path\n",
    "import pylab as plt\n",
    "import numpy as np\n",
    "import pandas as pd\n",
    "import matplotlib\n",
    "from io import StringIO\n",
    "from Bio.Seq import Seq\n",
    "from Bio import SeqIO\n",
    "import matplotlib.pyplot as plt\n",
    "from dna_features_viewer import BiopythonTranslator\n",
    "from Bio.Blast.Applications import NcbiblastpCommandline\n",
    "from Bio.Blast import NCBIWWW\n",
    "from Bio.Blast import NCBIXML\n",
    "import subprocess"
   ]
  },
  {
   "cell_type": "markdown",
   "id": "appointed-production",
   "metadata": {},
   "source": [
    "export BLASTDB=path_to/blastnr"
   ]
  },
  {
   "cell_type": "code",
   "execution_count": 2,
   "id": "scenic-preparation",
   "metadata": {},
   "outputs": [],
   "source": [
    "PRJ='project_name'\n",
    "DATA_PATH=f'/path-to-data/'\n",
    "sra='sra.fasta'\n",
    "DB='nr'\n",
    "#standard table\n",
    "TABLE=1\n",
    "#minimum protein length\n",
    "MIN_PRO_LEN=20\n",
    "#Expect value (E) for saving hits\n",
    "E_VAL=0.001\n",
    "NUM_THREADS=8"
   ]
  },
  {
   "cell_type": "code",
   "execution_count": 4,
   "id": "developed-depression",
   "metadata": {},
   "outputs": [],
   "source": [
    "#local BLAST\n",
    "def searchx(idx, query_string, database_path, alfile, hspfile):\n",
    "\n",
    "    #Number of aligned sequences to keep. \n",
    "    max_tgt_seqs=1\n",
    "    #Maximum number of HSPs (alignments) to keep for any single query-subject pair.\n",
    "    #If this option is not set (None), BLAST shows all HSPs meeting the expect value criteria.\n",
    "    max_hsps=1\n",
    "    blastn_cline = NcbiblastpCommandline(\n",
    "                                         db=database_path, \n",
    "                                         evalue=E_VAL,\n",
    "                                         outfmt=5, \n",
    "                                         max_target_seqs=max_tgt_seqs, \n",
    "                                         max_hsps=max_hsps,\n",
    "                                         num_threads=NUM_THREADS\n",
    "                                        )\n",
    "    out, err = blastn_cline(stdin=query_string)\n",
    "    io_result = StringIO(out)\n",
    "    blast_records = list(NCBIXML.parse(io_result))\n",
    "    for blast_record in blast_records:\n",
    "        if len(blast_record.alignments) == 0:\n",
    "            continue\n",
    "        else:\n",
    "            alignment = blast_record.alignments[0]\n",
    "            title = alignment.title\n",
    "            query_length = blast_record.query_letters\n",
    "            alfile.write(f\"id: {idx}, title: {title}, accession: {alignment.accession}\\n\")\n",
    "            print(f\"id: {idx}, title: {title}, accession: {alignment.accession}\")\n",
    "            for hsp in alignment.hsps:\n",
    "                hspfile.write(f\"id: {idx}, title: {title}, accession: {alignment.accession}, hit_id: {alignment.hit_id}, length: {alignment.length}, query_length {blast_record.query_letters}, score: {hsp.score}, expect: {hsp.expect}, align_length: {hsp.align_length}, bits: {hsp.bits}, query: {hsp.query}, sbjct: {hsp.sbjct}, query_start: {hsp.query_start}, query_end: {hsp.query_end}, sbjct_start: {hsp.sbjct_start}, sbjct_end: {hsp.sbjct_end}\\n\")\n",
    "    return "
   ]
  },
  {
   "cell_type": "code",
   "execution_count": 5,
   "id": "69f17c7b",
   "metadata": {},
   "outputs": [],
   "source": [
    "def remote_blastx(sequence_data):\n",
    "    result_handle = NCBIWWW.qblast(\"blastx\", DB, sequence_data)\n",
    "    blast_results = result_handle.read()\n",
    "    return blast_results"
   ]
  },
  {
   "cell_type": "code",
   "execution_count": 6,
   "id": "impossible-nature",
   "metadata": {},
   "outputs": [],
   "source": [
    "def get_reads(f_path, r_file):\n",
    "    readlist=[]\n",
    "    idlist=[]\n",
    "    try:\n",
    "        for record in SeqIO.parse(f_path+r_file, \"fasta\"):\n",
    "            idlist.append(record.id)\n",
    "            readlist.append(record.seq)\n",
    "        return idlist, readlist\n",
    "    except FileNotFoundError as e:\n",
    "        return None,None"
   ]
  },
  {
   "cell_type": "code",
   "execution_count": 7,
   "id": "f04b1fdb",
   "metadata": {},
   "outputs": [],
   "source": [
    "def nt_to_prot(seq):\n",
    "    #takes nucleotides, returns protein \n",
    "    rc= seq.reverse_complement()\n",
    "    p_rc = rc.translate()\n",
    "    p_seq = seq.translate()\n",
    "\n",
    "    return p_seq, p_rc"
   ]
  },
  {
   "cell_type": "code",
   "execution_count": 8,
   "id": "defensive-penalty",
   "metadata": {},
   "outputs": [],
   "source": [
    "def run_remote_blast(sra):\n",
    "    print(sra)\n",
    "\n",
    "    blast_path=DATA_PATH+'blast/'\n",
    "    pathlib.Path(blast_path).mkdir(exist_ok=True)\n",
    "\n",
    "    idlist, seqlist=get_reads(DATA_PATH, sra)\n",
    "    if idlist is not None:\n",
    "        forfs=collections.OrderedDict()\n",
    "        rorfs=collections.OrderedDict()\n",
    "        for i, seq in zip(idlist, seqlist):\n",
    "            contig=i.replace('>','')\n",
    "            forfs[contig]=seq\n",
    "            rorfs[contig]=seq.reverse_complement()\n",
    "\n",
    "        fresult_file=f'{blast_path}{sra.split(\".fasta\")[0]}_fwdk_{DB}_remote.txt'\n",
    "\n",
    "\n",
    "        #open file first and write as we go\n",
    "        fresultf= open(fresult_file,\"a\")\n",
    "        continue_ = False\n",
    "        for key, orfl in forfs.items():\n",
    "            if key == \"CoV-bait-4008\":\n",
    "                continue_ = True\n",
    "            if continue_:\n",
    "                #idx, query_string, database_path, outfile\n",
    "                print(f'key: {key}, orfl: {orfl}')\n",
    "                blast_results=remote_blastx(orfl)\n",
    "                fresultf.write(f'<Key>{key}</Key>\\n')\n",
    "                fresultf.write(f'<Untranslated_Input>{orfl}</Untranslated_Input>\\n')\n",
    "                fresultf.write(blast_results)\n",
    "                fresultf.flush()\n",
    "        fresultf.close()\n"
   ]
  },
  {
   "cell_type": "code",
   "execution_count": 1,
   "id": "increasing-festival",
   "metadata": {},
   "outputs": [
    {
     "ename": "NameError",
     "evalue": "name 'run_remote_blast' is not defined",
     "output_type": "error",
     "traceback": [
      "\u001b[0;31m---------------------------------------------------------------------------\u001b[0m",
      "\u001b[0;31mNameError\u001b[0m                                 Traceback (most recent call last)",
      "\u001b[0;32m<ipython-input-1-92d5264181d0>\u001b[0m in \u001b[0;36m<module>\u001b[0;34m\u001b[0m\n\u001b[0;32m----> 1\u001b[0;31m \u001b[0mrun_remote_blast\u001b[0m\u001b[0;34m(\u001b[0m\u001b[0msra\u001b[0m\u001b[0;34m)\u001b[0m\u001b[0;34m\u001b[0m\u001b[0;34m\u001b[0m\u001b[0m\n\u001b[0m",
      "\u001b[0;31mNameError\u001b[0m: name 'run_remote_blast' is not defined"
     ]
    }
   ],
   "source": [
    "run_remote_blast(sra)\n"
   ]
  },
  {
   "cell_type": "code",
   "execution_count": null,
   "id": "educational-fantasy",
   "metadata": {},
   "outputs": [],
   "source": []
  }
 ],
 "metadata": {
  "kernelspec": {
   "display_name": "Python 3",
   "language": "python",
   "name": "python3"
  },
  "language_info": {
   "codemirror_mode": {
    "name": "ipython",
    "version": 3
   },
   "file_extension": ".py",
   "mimetype": "text/x-python",
   "name": "python",
   "nbconvert_exporter": "python",
   "pygments_lexer": "ipython3",
   "version": "3.7.9"
  }
 },
 "nbformat": 4,
 "nbformat_minor": 5
}
